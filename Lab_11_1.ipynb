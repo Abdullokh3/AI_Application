{
  "nbformat": 4,
  "nbformat_minor": 0,
  "metadata": {
    "colab": {
      "provenance": [],
      "collapsed_sections": [],
      "authorship_tag": "ABX9TyOrrsD9uV7Sd0hPVK/kId/0",
      "include_colab_link": true
    },
    "kernelspec": {
      "name": "python3",
      "display_name": "Python 3"
    },
    "language_info": {
      "name": "python"
    },
    "accelerator": "GPU",
    "gpuClass": "standard"
  },
  "cells": [
    {
      "cell_type": "markdown",
      "metadata": {
        "id": "view-in-github",
        "colab_type": "text"
      },
      "source": [
        "<a href=\"https://colab.research.google.com/github/Abdullokh3/AI_Application/blob/main/Lab_11_1.ipynb\" target=\"_parent\"><img src=\"https://colab.research.google.com/assets/colab-badge.svg\" alt=\"Open In Colab\"/></a>"
      ]
    },
    {
      "cell_type": "code",
      "execution_count": 1,
      "metadata": {
        "id": "YFWP4CzM7ObR"
      },
      "outputs": [],
      "source": [
        "import requests\n",
        "# Save datagenerators as file to colab working directory\n",
        "# If you are using GitHub, make sure you get the \"Raw\" version of the code\n",
        "url = 'https://raw.githubusercontent.com/NVDLI/LDL/main/pt_framework/utilities.py'\n",
        "r = requests.get(url)\n",
        "\n",
        "#make sure your filename is the same as how you want to import\n",
        "with open('utilities.py', 'w') as f:\n",
        "  f.write(r.text)\n"
      ]
    },
    {
      "cell_type": "code",
      "source": [
        "import torch \n",
        "import torch.nn as nn\n",
        "from torch.utils.data import TensorDataset, DataLoader\n",
        "import numpy as np\n",
        "import matplotlib.pyplot as plt\n",
        "from utilities import train_model"
      ],
      "metadata": {
        "id": "2hqM9oL1-nni"
      },
      "execution_count": 2,
      "outputs": []
    },
    {
      "cell_type": "code",
      "source": [
        "device = torch.device(\"cuda:0\" if torch.cuda.is_available() else\"cpu\")\n",
        "EPOCHS = 100\n",
        "BATCH_SIZE = 16\n",
        "\n",
        "TRAIN_TEST_SPLIT = 0.8\n",
        "MIN = 12\n",
        "FILE_NAME= '/content/book_store_sales.csv'"
      ],
      "metadata": {
        "id": "c3Z5xe6Z_VH7"
      },
      "execution_count": 3,
      "outputs": []
    },
    {
      "cell_type": "code",
      "source": [
        "def readfile(file_name):\n",
        "  file = open(file_name, 'r', encoding='utf-8')\n",
        "  next(file)\n",
        "  data = []\n",
        "  for line in (file):\n",
        "    values = line.split(',')\n",
        "    data.append(float(values[1]))\n",
        "  file.close()\n",
        "  return np.array(data, dtype=np.float32)\n",
        "  \n"
      ],
      "metadata": {
        "id": "OabFmPaUAb-Y"
      },
      "execution_count": 4,
      "outputs": []
    },
    {
      "cell_type": "code",
      "source": [
        "# Read data and split up into train and test data.\n",
        "sales = readfile(FILE_NAME)\n",
        "months = len(sales)\n",
        "split = int(months * TRAIN_TEST_SPLIT)\n",
        "train_sales = sales[0:split]\n",
        "test_sales = sales[split:]"
      ],
      "metadata": {
        "id": "cjjijYh6Bt7v"
      },
      "execution_count": 5,
      "outputs": []
    },
    {
      "cell_type": "code",
      "source": [],
      "metadata": {
        "id": "SyCy53ZlCxzu"
      },
      "execution_count": null,
      "outputs": []
    }
  ]
}